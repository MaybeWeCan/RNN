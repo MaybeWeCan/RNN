{
 "cells": [
  {
   "cell_type": "code",
   "execution_count": 1,
   "metadata": {},
   "outputs": [],
   "source": [
    "import tensorflow as tf\n",
    "from tensorflow.examples.tutorials.mnist import input_data"
   ]
  },
  {
   "cell_type": "code",
   "execution_count": null,
   "metadata": {},
   "outputs": [],
   "source": [
    "# 载入数据集\n",
    "minist = input_data.read_data_sets('MNIST_data',one_hot=True)"
   ]
  },
  {
   "cell_type": "code",
   "execution_count": null,
   "metadata": {},
   "outputs": [],
   "source": [
    "def RNN(X,weights,biases):\n",
    "    \n",
    "    # LSTM参数问题\n",
    "    # https://blog.csdn.net/wjc1182511338/article/details/79689409\n",
    "    # input = [batch_size,max_time,n_inputs]\n",
    "    \n",
    "    inputs = tf.reshape(X,[-1,max_time,n_inputs])\n",
    "    \n",
    "    # lstm_size, 个人理解为，a,c这些隐藏单元权重的的维度\n",
    "    lstm_cell = tf.nn.rnn_cell.BasicLSTMCell(num_units=lstm_size)\n",
    "    \n",
    "    # https://www.cnblogs.com/wzdLY/p/10071962.html\n",
    "    outputs,final_state = tf.nn.dynamic_rnn(lstm_cell,inputs,dtype=tf.float32)\n",
    "    \n",
    "    results = tf.nn.softmax(tf.matmul(final_state[1],weights)+biases)\n",
    "    \n",
    "    return results"
   ]
  },
  {
   "cell_type": "code",
   "execution_count": null,
   "metadata": {},
   "outputs": [],
   "source": [
    "# 输入图片是 28×28\n",
    "\n",
    "n_inputs = 28    #输入一行，一行有28个数据\n",
    "\n",
    "max_time = 28   #一共28行\n",
    "lstm_size = 100 #隐层单元\n",
    "\n",
    "n_class = 10    #10分类\n",
    "batch_size = 50  #没批次50个样本\n",
    "\n",
    "n_batch = minist.train.num_examples // batch_size\n",
    "\n",
    "x = tf.placeholder(tf.float32,[None,784])\n",
    "y = tf.placeholder(tf.float32,[None,10])\n",
    "\n",
    "weights = tf.Variable(tf.truncated_normal([lstm_size,n_class],stddev=0.1))\n",
    "biases = tf.Variable(tf.constant(0.1,shape=[n_class]))\n",
    "\n",
    "#tf.summary.scalar('weights', weights)  # 必须是一个标量\n",
    "#tf.summary.scalar('biases', biases)\n",
    "\n",
    "# 定义RNN网络\n",
    "\n",
    "# 计算RNN返回结果\n",
    "prediction = RNN(x,weights,biases)\n",
    "\n",
    "# 损失函数\n",
    "cross_entropy = tf.reduce_mean(tf.nn.softmax_cross_entropy_with_logits(logits=prediction,labels=y))\n",
    "\n",
    "tf.summary.scalar('cross_entropy', cross_entropy)\n",
    "#优化\n",
    "train_step=tf.train.AdamOptimizer(1e-4).minimize(cross_entropy)\n",
    "\n",
    "#结果存放在一个布尔型列表中\n",
    "correct_prediction = tf.equal(tf.argmax(y,1),tf.argmax(prediction,1))\n",
    "\n",
    "\n",
    "accuracy= tf.reduce_mean(tf.cast(correct_prediction,tf.float32))\n",
    "\n",
    "tf.summary.scalar('accuracy', accuracy)\n",
    "\n",
    "# summaries合并\n",
    "merged = tf.summary.merge_all()\n",
    "\n",
    "\n",
    "my_count = 0\n",
    "\n",
    "#初始化\n",
    "\n",
    "init = tf.global_variables_initializer()\n",
    "\n",
    "with tf.Session() as sess:\n",
    "    \n",
    "    # 写到指定的磁盘路径中\n",
    "    train_writer = tf.summary.FileWriter('train/logs', sess.graph)\n",
    "\n",
    "    sess.run(init)\n",
    "    for epoch in range(6):\n",
    "        for batch in range(n_batch):\n",
    "            my_count = my_count + 1           \n",
    "            bactch_xs,batch_ys = minist.train.next_batch(batch_size)\n",
    "            summary,_ =sess.run([merged,train_step],feed_dict={x:bactch_xs,y:batch_ys})\n",
    "            \n",
    "        \n",
    "        \n",
    "        acc = sess.run(accuracy,feed_dict={x:minist.test.images,y:minist.test.labels})\n",
    "        print(\"Iter\"+str(epoch)+\",Testting Accuracy=\"+str(acc))\n",
    "        \n",
    "        train_writer.add_summary(summary, my_count)   # 将训练过程中的数据保存\n",
    "    \n",
    "    train_writer.close() "
   ]
  }
 ],
 "metadata": {
  "kernelspec": {
   "display_name": "Python 3",
   "language": "python",
   "name": "python3"
  },
  "language_info": {
   "codemirror_mode": {
    "name": "ipython",
    "version": 3
   },
   "file_extension": ".py",
   "mimetype": "text/x-python",
   "name": "python",
   "nbconvert_exporter": "python",
   "pygments_lexer": "ipython3",
   "version": "3.5.2"
  }
 },
 "nbformat": 4,
 "nbformat_minor": 2
}
